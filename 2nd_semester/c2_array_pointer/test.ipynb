{
 "cells": [
  {
   "cell_type": "code",
   "execution_count": 23,
   "metadata": {},
   "outputs": [],
   "source": [
    "import requests\n",
    "\n",
    "url = \"https://odsportal.digital.nhs.uk/Organisation/Search\"\n",
    "\n",
    "response = requests.get(url)"
   ]
  },
  {
   "cell_type": "code",
   "execution_count": 34,
   "metadata": {},
   "outputs": [
    {
     "data": {
      "text/plain": [
       "'.AspNetCore.Antiforgery.9TtSrW0hzOs=CfDJ8BXyiiRfJ0hAnn-3rl9O4aFCZuir0ASm5obz-woSUhvFBL-XBFlrrMg9E6LxsvE_oYEvQqnywZZJh-tMA1ANO9bWTjJQTYLySVTT4j5EL5PMyZ9ZxYDPs1uG3w2o69-Hl1zJrPE07mFgznUp1SpJxyY'"
      ]
     },
     "execution_count": 34,
     "metadata": {},
     "output_type": "execute_result"
    }
   ],
   "source": [
    "x = response.headers['set-cookie'].split(\";\")\n",
    "y = [j for j in x if \"AspNetCore\" in j][0]\n",
    "y\n"
   ]
  },
  {
   "cell_type": "code",
   "execution_count": 40,
   "metadata": {},
   "outputs": [
    {
     "data": {
      "text/plain": [
       "'Benjamin%20AE'"
      ]
     },
     "execution_count": 40,
     "metadata": {},
     "output_type": "execute_result"
    }
   ],
   "source": [
    "name = \"Benjamin AE\"\n",
    "name = name.replace(\" \", \"%20\")\n",
    "name"
   ]
  },
  {
   "cell_type": "code",
   "execution_count": 41,
   "metadata": {},
   "outputs": [],
   "source": [
    "import requests\n",
    "\n",
    "url = \"https://odsportal.digital.nhs.uk/Organisation/Search\"\n",
    "\n",
    "payload = f\"=Code%3D&=Address%3D&=Postcode%3D&SelectedOrganisationType=0&Name={name}&__RequestVerificationToken=CfDJ8IpWZ7v4LiNFqhk-pjMKEChiV5OrrCfz9q-UTnbTUcnu7rMm5Ch4M10i2sPudQCH8Ci9wZpgasLgAFMCkxCITGV-36Wjw3CyYz11sHBbuwsE3GNnkcpue_4infFDcUuncFA2-0MeuvQZButjLJ65VTY\"\n",
    "headers = {\n",
    "    \"cookie\": y,\n",
    "    \"authority\": \"odsportal.digital.nhs.uk\",\n",
    "    \"accept\": \"text/html,application/xhtml+xml,application/xml;q=0.9,image/webp,image/apng,*/*;q=0.8,application/signed-exchange;v=b3;q=0.7\",\n",
    "    \"accept-language\": \"en-US,en;q=0.9\",\n",
    "    \"cache-control\": \"max-age=0\",\n",
    "    \"content-type\": \"application/x-www-form-urlencoded\",\n",
    "    \"origin\": \"https://odsportal.digital.nhs.uk\",\n",
    "    \"referer\": \"https://odsportal.digital.nhs.uk/Organisation/Search\",\n",
    "    \"sec-ch-ua\": \"^\\^Microsoft\",\n",
    "    \"sec-ch-ua-mobile\": \"?0\",\n",
    "    \"sec-ch-ua-platform\": \"^\\^Windows^^\",\n",
    "    \"sec-fetch-dest\": \"document\",\n",
    "    \"sec-fetch-mode\": \"navigate\",\n",
    "    \"sec-fetch-site\": \"same-origin\",\n",
    "    \"sec-fetch-user\": \"?1\",\n",
    "    \"upgrade-insecure-requests\": \"1\",\n",
    "    \"user-agent\": \"Mozilla/5.0 (Windows NT 10.0; Win64; x64) AppleWebKit/537.36 (KHTML, like Gecko) Chrome/113.0.0.0 Safari/537.36 Edg/113.0.1774.35\"\n",
    "}\n",
    "\n",
    "response = requests.request(\"POST\", url, data=payload, headers=headers)"
   ]
  },
  {
   "cell_type": "code",
   "execution_count": 42,
   "metadata": {},
   "outputs": [],
   "source": [
    "from selectolax.parser import HTMLParser\n",
    "\n",
    "tree = HTMLParser(response.text)"
   ]
  },
  {
   "cell_type": "code",
   "execution_count": 43,
   "metadata": {},
   "outputs": [
    {
     "data": {
      "text/plain": [
       "['ODS PortalHomeGeographic SearchOrganisation/Practitioner Search',\n",
       " '2241117',\n",
       " 'Y60 MIDLANDS COMMISSIONING REGION',\n",
       " 'QWU NHS COVENTRY AND WARWICKSHIRE INTEGRATED CARE BOARD',\n",
       " 'M84034 WHITESTONE SURGERY',\n",
       " '10/12/1993',\n",
       " 'WHITESTONE SURGERY82 BULKINGTON LANENUNEATONWARWICKSHIRECV11 4SB']"
      ]
     },
     "execution_count": 43,
     "metadata": {},
     "output_type": "execute_result"
    }
   ],
   "source": [
    "x = tree.css('div[class=\"col-lg-9\"]')\n",
    "clean_x =[node.text().replace(\"\\n\", \"\").replace(\"  \", \"\") for node in x]\n",
    "clean_x"
   ]
  },
  {
   "cell_type": "code",
   "execution_count": 44,
   "metadata": {},
   "outputs": [
    {
     "data": {
      "text/plain": [
       "{'gmc_code': '2241117',\n",
       " 'national_groupings': 'Y60 MIDLANDS COMMISSIONING REGION',\n",
       " 'higher_health_authority': 'QWU NHS COVENTRY AND WARWICKSHIRE INTEGRATED CARE BOARD',\n",
       " 'parent': 'M84034 WHITESTONE SURGERY',\n",
       " 'date_opened': '10/12/1993',\n",
       " 'address': 'WHITESTONE SURGERY82 BULKINGTON LANENUNEATONWARWICKSHIRECV11 4SB'}"
      ]
     },
     "execution_count": 44,
     "metadata": {},
     "output_type": "execute_result"
    }
   ],
   "source": [
    "output = {\n",
    "    \"gmc_code\": clean_x[1],\n",
    "    \"national_groupings\": clean_x[2],\n",
    "    \"higher_health_authority\": clean_x[3],\n",
    "    \"parent\": clean_x[4],\n",
    "    \"date_opened\": clean_x[5],\n",
    "    \"address\": clean_x[6]\n",
    "}\n",
    "\n",
    "output"
   ]
  }
 ],
 "metadata": {
  "kernelspec": {
   "display_name": "Python 3",
   "language": "python",
   "name": "python3"
  },
  "language_info": {
   "codemirror_mode": {
    "name": "ipython",
    "version": 3
   },
   "file_extension": ".py",
   "mimetype": "text/x-python",
   "name": "python",
   "nbconvert_exporter": "python",
   "pygments_lexer": "ipython3",
   "version": "3.11.1"
  },
  "orig_nbformat": 4
 },
 "nbformat": 4,
 "nbformat_minor": 2
}
